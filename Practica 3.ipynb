{
 "cells": [
  {
   "cell_type": "markdown",
   "id": "b15ba0a0",
   "metadata": {},
   "source": [
    "# Exercise 1\n",
    "\n",
    "An example where the round-off error leads to not to fulfill the associative\n",
    "property of addition is the following and its value:\n",
    "let’s consider the following infinite series:\n",
    "\n",
    "-----------Meh meh meh meeeeeeeeeh------------------------------------\n",
    "\n",
    "different results are obtained if the series is summed in ascending or descending order.\n"
   ]
  },
  {
   "cell_type": "code",
   "execution_count": 26,
   "id": "f78e3ed3",
   "metadata": {},
   "outputs": [
    {
     "name": "stdout",
     "output_type": "stream",
     "text": [
      "Different results are obtained from  14\n",
      "1.0821531101479351 2.6030820491461892e-05 3.501277966457757e-05\n"
     ]
    }
   ],
   "source": [
    "import numpy as np\n",
    "\n",
    "def desired_result():\n",
    "    print(\"The theoretical result for infinite terms would be: \", pow(np.pi, 4)/90)\n",
    "    \n",
    "def sumSeriesA(num_terms):\n",
    "    sum = 0\n",
    "    for i in range(1,num_terms):\n",
    "        sum += 1/pow(i, 4)\n",
    "    #print(\"Ascending sum of \", num_terms, \" terms is \", sum)\n",
    "    return sum\n",
    "\n",
    "def sumSeriesD(num_terms):\n",
    "    sum = 0\n",
    "    for i in range(num_terms-1, 0, -1):\n",
    "        sum += 1/pow(i, 4)\n",
    "    #print(\"Descending sum of \", num_terms, \" terms is \", sum)\n",
    "    return sum\n",
    "    \n",
    "\n",
    "n = 1\n",
    "while(sumSeriesA(n) == sumSeriesD(n)):\n",
    "    n += 1\n",
    "    \n",
    "print(\"Different results are obtained from \", n)\n",
    "\n",
    "\n",
    "print(sumSeriesA(n-1), 1/(n**4), 1/((n-1)**4))\n"
   ]
  },
  {
   "cell_type": "code",
   "execution_count": 32,
   "id": "a2b2a6d2",
   "metadata": {},
   "outputs": [
    {
     "name": "stdout",
     "output_type": "stream",
     "text": [
      "The two roots are, for quadratic1:  4.0 and:  2.0\n",
      "The two roots are, for quadratic2:  -1.0 and:  4.0\n",
      "The two roots are, for quadratic3:  4.0 and:  -1.0\n"
     ]
    }
   ],
   "source": [
    "def quadratic1(a,b,c):\n",
    "    if pow(b,2) - 4*a*c < 0:\n",
    "        print('Error: negative sqrt')\n",
    "    else: \n",
    "        x1 = -b + np.sqrt(pow(b,2) - 4*a*c)\n",
    "        x1 = x1/(2*a)\n",
    "        x2 = -b - np.sqrt(b**2 - 4*a*c)\n",
    "        x2 = x1/(2*a)\n",
    "        return(x1,x2)\n",
    "\n",
    "def quadratic2(a,b,c):\n",
    "    if pow(b,2) - 4*a*c < 0:\n",
    "        print('Error: negative sqrt')\n",
    "    else: \n",
    "        x1 = 2*c/(-b+np.sqrt(b**2 - 4*a*c))\n",
    "        x2 = 2*c/(-b-np.sqrt(b**2 - 4*a*c))\n",
    "    return(x1,x2)\n",
    "\n",
    "def quadratic3(a,b,c):\n",
    "    if pow(b,2) - 4*a*c < 0:\n",
    "        print('Error: negative sqrt')\n",
    "    else: \n",
    "        q = -(b+np.sign(b)*np.sqrt(b**2 - 4*a*c))\n",
    "        x1 = q/(2*a)\n",
    "        x2 = 2*c/q\n",
    "    return(x1,x2)\n",
    "\n",
    "\n",
    "a = 1\n",
    "b = -3\n",
    "c = -4\n",
    "x1_1, x2_1 = quadratic1(a,b,c)\n",
    "x1_2, x2_2 = quadratic2(a,b,c)\n",
    "x1_3, x2_3 = quadratic3(a,b,c)\n",
    "print('The two roots are, for quadratic1: ', x1_1, 'and: ', x2_1)\n",
    "print('The two roots are, for quadratic2: ', x1_2, 'and: ', x2_2)\n",
    "print('The two roots are, for quadratic3: ', x1_3, 'and: ', x2_3)"
   ]
  }
 ],
 "metadata": {
  "kernelspec": {
   "display_name": "Python 3",
   "language": "python",
   "name": "python3"
  },
  "language_info": {
   "codemirror_mode": {
    "name": "ipython",
    "version": 3
   },
   "file_extension": ".py",
   "mimetype": "text/x-python",
   "name": "python",
   "nbconvert_exporter": "python",
   "pygments_lexer": "ipython3",
   "version": "3.8.8"
  }
 },
 "nbformat": 4,
 "nbformat_minor": 5
}
